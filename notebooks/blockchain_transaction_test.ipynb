{
 "cells": [
  {
   "cell_type": "markdown",
   "metadata": {},
   "source": [
    "Import libraries and generate public and private keys"
   ]
  },
  {
   "cell_type": "code",
   "execution_count": 1,
   "metadata": {
    "collapsed": true
   },
   "outputs": [],
   "source": [
    "import hashlib\n",
    "import json\n",
    "from collections import OrderedDict\n",
    "from Crypto.PublicKey import RSA\n",
    "from Crypto import Random\n",
    "from pprint import pprint\n",
    "\n",
    "# Generate an RSA of 2048 bits\n",
    "random_generator = Random.new().read\n",
    "\n",
    "# Alice RSA keys\n",
    "alice_private_key = RSA.generate(2048, random_generator)\n",
    "alice_public_key_pem = alice_private_key.publickey().exportKey(format='PEM')\n",
    "\n",
    "# Bob RSA keys\n",
    "bob_private_key = RSA.generate(2048, random_generator)\n",
    "bob_public_key_pem = bob_private_key.publickey().exportKey(format='PEM')"
   ]
  },
  {
   "cell_type": "markdown",
   "metadata": {},
   "source": [
    "## Sample Signing Examples"
   ]
  },
  {
   "cell_type": "code",
   "execution_count": 2,
   "metadata": {},
   "outputs": [
    {
     "name": "stdout",
     "output_type": "stream",
     "text": [
      "b'\\xad\\xed\\x0e\\xa9\\xb4\\xd0e\\x89\\xb1=\\x00\\xba\\xb4\\x83\\xfa\\xf4y\\xd6\\x1e\\xd5\\xde!\\xf1v\\n\\xa7\\x01\\x8a(\\xe30\\xe5'\n",
      "True\n",
      "False\n",
      "False\n"
     ]
    }
   ],
   "source": [
    "# Create a very big string to sign using alice's private key\n",
    "a_test_message = b'A short message'\n",
    "a_large_message = b'aa' * 10000000\n",
    "\n",
    "# This works on a smaller message without hashing but doesn't work as well on a large message\n",
    "# alice_sign_msg = alice_private_key.sign(a_large_message, K=None)\n",
    "\n",
    "# A better option is to hash the message and then sign it using Alice's private key\n",
    "hash_message = hashlib.sha256(a_large_message).digest()\n",
    "print(hash_message)\n",
    "\n",
    "# Now sign this message using Alice's private key\n",
    "alice_sign_msg = alice_private_key.sign(hash_message, K=None)\n",
    "\n",
    "# Now verify the message using Alice's public key (assume from another user)\n",
    "import_alice_public_key = RSA.importKey(alice_public_key_pem)\n",
    "print(import_alice_public_key.verify(hash_message, alice_sign_msg)) # Evaluates to True\n",
    "\n",
    "# Now lets try and evaluate it importing Bob's public key\n",
    "import_bob_public_key = RSA.importKey(bob_public_key_pem)\n",
    "print(import_bob_public_key.verify(hash_message, alice_sign_msg)) # Evaluates to False\n",
    "\n",
    "# Also try a different message against the one received\n",
    "a_dif_test_message = b'An incorrect short message'\n",
    "hash_dif_message = hashlib.sha256(a_dif_test_message).digest()\n",
    "print(import_alice_public_key.verify(hash_dif_message, alice_sign_msg)) # Evaluates to False"
   ]
  },
  {
   "cell_type": "markdown",
   "metadata": {},
   "source": [
    "## A simple Blockchain example\n",
    "Merged with the work provided by Kevin"
   ]
  },
  {
   "cell_type": "code",
   "execution_count": 3,
   "metadata": {},
   "outputs": [
    {
     "name": "stdout",
     "output_type": "stream",
     "text": [
      "The sender is who they claim to be.\n"
     ]
    }
   ],
   "source": [
    "# Generate a simple transaction for Alice, assumming she has Bob's public key\n",
    "transaction = {\n",
    "    'from_pk' : alice_public_key_pem,\n",
    "    'to_pk': bob_public_key_pem,\n",
    "    'cc_amount': 50\n",
    "}\n",
    "\n",
    "# Hash and generate signature using the sender's private key\n",
    "hash_transaction = hashlib.sha256(bytes(str(transaction), encoding=\"UTF-8\")).hexdigest()\n",
    "signature = alice_private_key.sign(bytes(str(hash_transaction), encoding=\"UTF-8\"), K = None)\n",
    "\n",
    "# Add signature to the transaction message\n",
    "transaction['signature'] = signature\n",
    "\n",
    "## Send your transaction...\n",
    "\n",
    "# Pretend it has been sent\n",
    "received_transaction = transaction\n",
    "\n",
    "# Extract the signature\n",
    "received_signature = transaction['signature']\n",
    "\n",
    "# Remove signature from the transaction and get hash\n",
    "del received_transaction['signature']\n",
    "hash_received_transaction = hashlib.sha256(bytes(str(received_transaction), encoding=\"UTF-8\")).hexdigest()\n",
    "\n",
    "public_key = RSA.importKey(transaction['from_pk'])\n",
    "\n",
    "# Check if the signature matches\n",
    "signature_check = public_key.verify(bytes(str(hash_received_transaction), encoding=\"UTF-8\"), received_signature)\n",
    "\n",
    "if signature_check:\n",
    "    print(\"The sender is who they claim to be.\")\n",
    "else:\n",
    "    print(\"The sender is not who you think it is.\")"
   ]
  },
  {
   "cell_type": "code",
   "execution_count": null,
   "metadata": {
    "collapsed": true
   },
   "outputs": [],
   "source": []
  }
 ],
 "metadata": {
  "kernelspec": {
   "display_name": "Python 3",
   "language": "python",
   "name": "python3"
  },
  "language_info": {
   "codemirror_mode": {
    "name": "ipython",
    "version": 3
   },
   "file_extension": ".py",
   "mimetype": "text/x-python",
   "name": "python",
   "nbconvert_exporter": "python",
   "pygments_lexer": "ipython3",
   "version": "3.5.2"
  }
 },
 "nbformat": 4,
 "nbformat_minor": 1
}
