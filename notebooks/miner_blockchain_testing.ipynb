{
 "cells": [
  {
   "cell_type": "markdown",
   "metadata": {},
   "source": [
    "### Miner and Blockchain Testing"
   ]
  },
  {
   "cell_type": "code",
   "execution_count": 1,
   "metadata": {
    "collapsed": true
   },
   "outputs": [],
   "source": [
    "# Import required packages for this notebook\n",
    "%matplotlib inline\n",
    "import hashlib\n",
    "import numpy\n",
    "import matplotlib.pyplot as plt\n",
    "import time\n",
    "\n",
    "from Crypto.PublicKey import RSA\n",
    "from Crypto import Random"
   ]
  },
  {
   "cell_type": "code",
   "execution_count": 2,
   "metadata": {},
   "outputs": [
    {
     "name": "stdout",
     "output_type": "stream",
     "text": [
      "a665a45920422f9d417e4867efdc4fb8a04a1f3fff1fa07e998e86f7f7a27ae3\n"
     ]
    }
   ],
   "source": [
    "# Test text hashing\n",
    "hash_object = hashlib.sha256(b\"123\")\n",
    "hex_dig = hash_object.hexdigest()\n",
    "print(hex_dig)"
   ]
  },
  {
   "cell_type": "code",
   "execution_count": 3,
   "metadata": {
    "collapsed": true
   },
   "outputs": [],
   "source": [
    "# Object for Person's Digital Wallet\n",
    "# ** Modified to include PoW method\n",
    "\n",
    "class DigitalWallet(object):\n",
    "    def __init__(self, name):\n",
    "                \n",
    "        # Owner of the wallet\n",
    "        self._name = name\n",
    "        \n",
    "        # Generate RSA keys on object creation\n",
    "        private_key, public_key = self.__generate_RSA_keys(2048)\n",
    "        \n",
    "        # Objects RSA keys\n",
    "        self._private_key = private_key # This should never be sent out\n",
    "        self._public_keys = {self._name: public_key} \n",
    "        \n",
    "    def __generate_RSA_keys(self, num_bits):\n",
    "        # Keys that are generated when the digital wallet is created\n",
    "        random_generator = Random.new().read\n",
    "        private_key = RSA.generate(2048, random_generator)\n",
    "        public_key = private_key.publickey()\n",
    "        return private_key, public_key\n",
    "    \n",
    "    def send_public_keys(self):\n",
    "        # Public key can be sent to others for message encryption\n",
    "        return {self._name: self._public_keys[self._name].exportKey(format='PEM')}\n",
    "    \n",
    "    def receive_public_key(self, key_dict):\n",
    "        # Recieve a public key from another person\n",
    "        for key, val in key_dict.items():\n",
    "            public_key = RSA.importKey(val)\n",
    "            self._public_keys[key] = public_key\n",
    "        \n",
    "    def send_encrypted_message(self, to_user, message):\n",
    "        # Encrypt with the public key and return to user\n",
    "        return self._public_keys[to_user].encrypt(message, K=None)\n",
    "\n",
    "    def proof_of_work(self, encrypted_message):\n",
    "        init_time = time.time()\n",
    "        hash_message = hashlib.sha256(message).hexdigest()\n",
    "        first_byte = hash_message[:3]\n",
    "        counter = -1\n",
    "        while first_byte != \"000\":\n",
    "            counter +=1 \n",
    "            #had to convert encrypted msg from tuple to byte to be hashed\n",
    "            hash_message = hashlib.sha256(b\"\".join(encrypted_message) + bytes(str(counter), encoding=\"UTF-8\")).hexdigest()\n",
    "            first_byte = hash_message[:3]\n",
    "        final_time = time.time()\n",
    "        print(\"Time to proof = \", final_time - init_time)\n",
    "        return bytes(str(counter), encoding=\"UTF-8\")\n",
    "    \n",
    "    def receive_encrypted_message(self, encrypted_message, nonce):\n",
    "        #checking if miner did his job \n",
    "        hash_message = hashlib.sha256(b\"\".join(encrypted_message) + nonce).hexdigest()\n",
    "        if(hash_message[:3] == \"000\"):\n",
    "            decoded_message = self._private_key.decrypt(encrypted_message)\n",
    "            print(decoded_message)\n",
    "        else:\n",
    "            print(\"Miner has not proof of worked this message\")"
   ]
  },
  {
   "cell_type": "markdown",
   "metadata": {},
   "source": [
    "## Preliminary Proof of Work checks"
   ]
  },
  {
   "cell_type": "code",
   "execution_count": 4,
   "metadata": {},
   "outputs": [
    {
     "name": "stdout",
     "output_type": "stream",
     "text": [
      "b'Secret message for bob1051'\n",
      "00064bf1a8a7f10ce8dcbc306665f0c0d3841590bfdaacc20b5384d4b9187179\n",
      "0.001739501953125 seconds\n"
     ]
    }
   ],
   "source": [
    "# Function for testing the Proof of Work function\n",
    "def proof_of_work_test(dif, message):\n",
    "    start_time = time.time() # Start timer\n",
    "    counter = 0 # the nonce = counter\n",
    "    target_bytes = dif * str(0) # Brute force target\n",
    "\n",
    "    #Brute forcing proof of work till the first X chars in hashed msg are 0\n",
    "    while True:\n",
    "        #Concatenating byte and str(int) and sha256 hashing the result\n",
    "        hash_message = hashlib.sha256(message + bytes(str(counter), \n",
    "                                                      encoding=\"UTF-8\")).hexdigest()\n",
    "        check_bytes = hash_message[:dif]\n",
    "        \n",
    "        # Check to see a result has been found\n",
    "        if check_bytes == target_bytes:\n",
    "            break\n",
    "        else:\n",
    "            counter += 1\n",
    "    \n",
    "    # Result has been found, return delta time and value of counter\n",
    "    final_time = time.time()\n",
    "    delta_time = final_time - start_time\n",
    "    return (delta_time, counter)\n",
    "\n",
    "# Message to test, difficulty set to '3' characters\n",
    "message = b'Secret message for bob'\n",
    "difficulty = 3\n",
    "\n",
    "# Run the test\n",
    "delta_time, counter = proof_of_work_test(difficulty, message)\n",
    "\n",
    "# Print results\n",
    "pow_result = message + bytes(str(counter), encoding=\"UTF-8\")\n",
    "hash_message = hashlib.sha256(pow_result).hexdigest()\n",
    "\n",
    "print(pow_result)\n",
    "print(hash_message)\n",
    "print(delta_time, \"seconds\")"
   ]
  },
  {
   "cell_type": "markdown",
   "metadata": {},
   "source": [
    "### Graph some results\n",
    "Create a graph that displays the results from the function"
   ]
  },
  {
   "cell_type": "code",
   "execution_count": 5,
   "metadata": {},
   "outputs": [
    {
     "name": "stdout",
     "output_type": "stream",
     "text": [
      "2.002716064453125e-05 2\n",
      "0.00037741661071777344 143\n",
      "0.0034894943237304688 1051\n",
      "0.06455636024475098 34728\n",
      "0.6640651226043701 444121\n",
      "63.17294883728027 42403481\n"
     ]
    }
   ],
   "source": [
    "# Parameters for graph\n",
    "message = b'Secret message for bob'\n",
    "max_dif = 6 # Max difficulty tested\n",
    "dif_range = range(1, max_dif + 1) # Add one to range to ensure we capture this value\n",
    "\n",
    "# Create some data\n",
    "test_results = [proof_of_work_test(i, message) \n",
    "                for i in dif_range]\n",
    "\n",
    "for pow_time, counter in test_results:\n",
    "    print(pow_time, counter)"
   ]
  },
  {
   "cell_type": "code",
   "execution_count": 6,
   "metadata": {},
   "outputs": [
    {
     "data": {
      "text/plain": [
       "<matplotlib.collections.PathCollection at 0x7f748c6f6c88>"
      ]
     },
     "execution_count": 6,
     "metadata": {},
     "output_type": "execute_result"
    },
    {
     "data": {
      "image/png": "[encoded data removed]",
      "text/plain": [
       "<matplotlib.figure.Figure at 0x7f748e7ac0f0>"
      ]
     },
     "metadata": {},
     "output_type": "display_data"
    }
   ],
   "source": [
    "# Plot the results\n",
    "x_data = [pow_time for pow_time, counter in test_results] # Time taken\n",
    "y_data = [counter for pow_time, counter in test_results]  # Number of iterations\n",
    "\n",
    "fig = plt.figure(figsize=(10,5))\n",
    "sub1 = plt.subplot(121)\n",
    "sub1.set_xlabel('Difficulty')\n",
    "sub1.scatter(dif_range, x_data)\n",
    "\n",
    "sub2 = plt.subplot(122)\n",
    "sub2.set_xlabel('Difficulty')\n",
    "sub2.scatter(dif_range, y_data)"
   ]
  },
  {
   "cell_type": "markdown",
   "metadata": {},
   "source": [
    "### Ask for input"
   ]
  },
  {
   "cell_type": "code",
   "execution_count": 7,
   "metadata": {},
   "outputs": [
    {
     "name": "stdout",
     "output_type": "stream",
     "text": [
      "Enter Username: Alice\n",
      "Enter Password: 123\n",
      "Welcome  Alice\n"
     ]
    }
   ],
   "source": [
    "# 'Alice' is a hashed value in this list\n",
    "usernames = [\"cd9fb1e148ccd8442e5aa74904cc73bf6fb54d1d54d333bd596aa9bb4bb4e961\", \n",
    "             \"3bc51062973c458d5a6f2d8d64a023246354ad7e064b1e4e009ec8a0699a3043\", \n",
    "             \"b5fd03dd91df1cfbd2f19c115d24d58bbda01a23fb01924bb78b2cc14f7ff1cb\", \n",
    "             \"2d1e830624b2572adc05351a7cbee2d3aa3f6a52b34fa38a260c9c78f96fcd07\"]\n",
    "\n",
    "#'123' is a hashed password in this list\n",
    "passwords = [\"a665a45920422f9d417e4867efdc4fb8a04a1f3fff1fa07e998e86f7f7a27ae3\",\n",
    "             \"a665a45920422f9d417e4867efdc4fb8a04a1f3fff1fa07e998e86f7f7a27ae3\",\n",
    "             \"a665a45920422f9d417e4867efdc4fb8a04a1f3fff1fa07e998e86f7f7a27ae3\",\n",
    "             \"a665a45920422f9d417e4867efdc4fb8a04a1f3fff1fa07e998e86f7f7a27ae3\"]\n",
    "\n",
    "correct_username = True\n",
    "\n",
    "while correct_username:\n",
    "    username = input(\"Enter Username: \")\n",
    "    hash_user = hashlib.sha256(bytes(str(username), encoding=\"UTF-8\")).hexdigest()\n",
    "    index = -1\n",
    "    if hash_user in usernames:\n",
    "        correct_username = False\n",
    "        index = usernames.index(hash_user)\n",
    "        correct_password = True;\n",
    "        while correct_password:\n",
    "            password = input(\"Enter Password: \")\n",
    "            hash_pass = hashlib.sha256(bytes(str(password), encoding=\"UTF-8\")).hexdigest()\n",
    "            if hash_pass in passwords:\n",
    "                correct_password = False\n",
    "                print(\"Welcome \", username)\n",
    "            else:\n",
    "                print(\"Incorrect password try 123\")\n",
    "    else:\n",
    "        print(\"Incorrect Username try Alice\")"
   ]
  },
  {
   "cell_type": "markdown",
   "metadata": {},
   "source": [
    "### Build typical transaction object\n",
    "A transaction should have the following properties:\n",
    "1.  The owners public key and private key (Alice's public key, for example.\n",
    "2.  Another users public key, so that they can send encrypted messages"
   ]
  },
  {
   "cell_type": "code",
   "execution_count": 8,
   "metadata": {},
   "outputs": [
    {
     "name": "stdout",
     "output_type": "stream",
     "text": [
      "Enter Username: Alice\n",
      "Enter Password: 123\n",
      "Welcome  Alice\n",
      "Enter Reciever: Bob\n",
      "Enter criscoin send amount = 25\n",
      "Time to proof =  0.007158041000366211\n",
      "b'Secret message for bob'\n"
     ]
    }
   ],
   "source": [
    "\"\"\"\n",
    "Similate a basic transaction\n",
    "1.  Create digital wallet objects for Alice and Bob.\n",
    "2.  Create private and digital keys for these wallets\n",
    "3.  Send Bob's public key in 'PEM' format to Alice\n",
    "4.  Alice then encrypt's a message using Bob's public key\n",
    "5.  Alice sends encrypted message to Bob\n",
    "6.  Bob receives message and decrypts message using his private key\n",
    "\"\"\"\n",
    "# Just a simple idea for blockchain at the momment and putting in some pre-set usernames and balances. \n",
    "#Would be good if we could put into json file and read set these initial variables then when receiver finally decrypts the msg he can update other people -i.e. Alices json file\n",
    "usernames = [\"cd9fb1e148ccd8442e5aa74904cc73bf6fb54d1d54d333bd596aa9bb4bb4e961\", \n",
    "             \"3bc51062973c458d5a6f2d8d64a023246354ad7e064b1e4e009ec8a0699a3043\", \n",
    "             \"b5fd03dd91df1cfbd2f19c115d24d58bbda01a23fb01924bb78b2cc14f7ff1cb\", \n",
    "             \"2d1e830624b2572adc05351a7cbee2d3aa3f6a52b34fa38a260c9c78f96fcd07\"]\n",
    "passwords = [\"a665a45920422f9d417e4867efdc4fb8a04a1f3fff1fa07e998e86f7f7a27ae3\",\n",
    "             \"a665a45920422f9d417e4867efdc4fb8a04a1f3fff1fa07e998e86f7f7a27ae3\",\n",
    "             \"a665a45920422f9d417e4867efdc4fb8a04a1f3fff1fa07e998e86f7f7a27ae3\",\n",
    "             \"a665a45920422f9d417e4867efdc4fb8a04a1f3fff1fa07e998e86f7f7a27ae3\",\n",
    "             \"a665a45920422f9d417e4867efdc4fb8a04a1f3fff1fa07e998e86f7f7a27ae3\"]\n",
    "balances = [50,50,50,50]\n",
    "\n",
    "#using hash for usernames so you cannot see individuals names -same as in bitcoin\n",
    "hash_user= 0\n",
    "hash_receiver = 0\n",
    "#to find balance/password for send/receiver to easily update them at end\n",
    "index_sender = -1\n",
    "index_reciever = 0\n",
    "\n",
    "amount = 0\n",
    "\n",
    "incorrect_username = True\n",
    "while incorrect_username:\n",
    "    username = input(\"Enter Username: \")\n",
    "    hash_user = hashlib.sha256(bytes(str(username), encoding=\"UTF-8\")).hexdigest()\n",
    "    if hash_user in usernames:\n",
    "        incorrect_username = False\n",
    "        index = usernames.index(hash_user)\n",
    "        incorrect_password = True;\n",
    "        while incorrect_password:\n",
    "            password = input(\"Enter Password: \")\n",
    "            hash_pass = hashlib.sha256(bytes(str(password), encoding=\"UTF-8\")).hexdigest()\n",
    "            if hash_pass in passwords:\n",
    "                incorrect_password = False\n",
    "                print(\"Welcome \", username)\n",
    "            else:\n",
    "                print(\"Incorrect password try 123\")\n",
    "    else:\n",
    "        print(\"Incorrect Username try Alice, Bob, Jack, or Ryan\")\n",
    "incorrect_receiver = True\n",
    "while incorrect_receiver:\n",
    "    receiver = input(\"Enter Reciever: \")\n",
    "    hash_receiver = hashlib.sha256(bytes(str(receiver), encoding=\"UTF-8\")).hexdigest()\n",
    "    if hash_receiver != hash_user and hash_receiver in usernames:\n",
    "        incorrect_receiver = False\n",
    "    else:\n",
    "        print(\"Invalid receiver\")\n",
    "\n",
    "incorrect_amount = True\n",
    "while incorrect_amount:\n",
    "    amount = input(\"Enter criscoin send amount = \")\n",
    "    if amount.isdigit() == False:\n",
    "        print(\"Integer input required\")\n",
    "    elif balances[index]-int(amount) >= 0 and int(amount) >= 0:\n",
    "        incorrect_amount = False\n",
    "    else:\n",
    "        print(\"Insufficient credit or invalid entry\")\n",
    "            \n",
    "# Build wallets for Alice and Bob\n",
    "senders_wallet = DigitalWallet(name=hash_user)\n",
    "receivers_wallet = DigitalWallet(name=hash_receiver)\n",
    "mine = DigitalWallet(name='Miner')\n",
    "\n",
    "# Receive a public key from Bob\n",
    "receivers_public_key = receivers_wallet.send_public_keys()\n",
    "senders_wallet.receive_public_key(receivers_public_key)\n",
    "\n",
    "# Message is encrypted so only Bob and Alice can decrypt it\n",
    "\n",
    "encrypted_message = senders_wallet.send_encrypted_message(hash_receiver, b'Secret message for bob')\n",
    "\n",
    "#Proof of Work encrypted message recieve from Alice\n",
    "nonce = mine.proof_of_work(encrypted_message)\n",
    "\n",
    "# Send Message to Bob and Alice who can decrypt message and check nonce quickly\n",
    "blockchain_update = receivers_wallet.receive_encrypted_message(encrypted_message, nonce)"
   ]
  }
 ],
 "metadata": {
  "kernelspec": {
   "display_name": "Python 3",
   "language": "python",
   "name": "python3"
  },
  "language_info": {
   "codemirror_mode": {
    "name": "ipython",
    "version": 3
   },
   "file_extension": ".py",
   "mimetype": "text/x-python",
   "name": "python",
   "nbconvert_exporter": "python",
   "pygments_lexer": "ipython3",
   "version": "3.5.2"
  }
 },
 "nbformat": 4,
 "nbformat_minor": 1
}
